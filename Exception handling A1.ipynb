{
 "cells": [
  {
   "cell_type": "code",
   "execution_count": 1,
   "id": "67becc4e-7d31-4409-85b5-906d38b1a959",
   "metadata": {},
   "outputs": [],
   "source": [
    "#q1"
   ]
  },
  {
   "cell_type": "code",
   "execution_count": 2,
   "id": "de882f4d-6658-4a1b-8270-c93b4fca082c",
   "metadata": {},
   "outputs": [
    {
     "data": {
      "text/plain": [
       "' An exception is an event which occurs during the execution of the program and disrupts the natural\\nflow of the program. It occurs because of the logical error in the code and can be managed by exception handling\\n'"
      ]
     },
     "execution_count": 2,
     "metadata": {},
     "output_type": "execute_result"
    }
   ],
   "source": [
    "\"\"\" An exception is an event which occurs during the execution of the program and disrupts the natural\n",
    "flow of the program. It occurs because of the logical error or unecpected conditions such as division by\n",
    "zero or trying to read a file which doesn't existin the code and can be managed by exception handling\n",
    "\"\"\""
   ]
  },
  {
   "cell_type": "code",
   "execution_count": 3,
   "id": "a1f1d7c9-724e-4719-bf54-ae3a64f80977",
   "metadata": {},
   "outputs": [
    {
     "data": {
      "text/plain": [
       "'\\nAspect                 Syntax error                       Exception\\n\\nwhen detected          during compilation time            Runtime\\n\\ncause                  due to use of incorrect syntax     due to logical error or unecpected conditions\\n\\nhandling mechansim     must be fixed in the code          using try and catch block\\n\\nexample                print(\"Hello\" :The closing bracket try:\\n                                                             f=open(\"test.txt\",\\'r\\')\\n                                                           except Exception as e:\\n                                                             print(\"This is my exception block\", e)\\n                                                             \\n'"
      ]
     },
     "execution_count": 3,
     "metadata": {},
     "output_type": "execute_result"
    }
   ],
   "source": [
    "\"\"\"\n",
    "Aspect                 Syntax error                       Exception\n",
    "\n",
    "when detected          during compilation time            Runtime\n",
    "\n",
    "cause                  due to use of incorrect syntax     due to logical error or unecpected conditions\n",
    "\n",
    "handling mechansim     must be fixed in the code          using try and catch block\n",
    "\n",
    "example                print(\"Hello\" :The closing bracket try:\n",
    "                                                             f=open(\"test.txt\",'r')\n",
    "                                                           except Exception as e:\n",
    "                                                             print(\"This is my exception block\", e)\n",
    "                                                             \n",
    "\"\"\"\n",
    "\n",
    "\n",
    "\n"
   ]
  },
  {
   "cell_type": "code",
   "execution_count": 4,
   "id": "0669ae98-9915-4a4f-8f64-dd28efe6d695",
   "metadata": {},
   "outputs": [],
   "source": [
    "#Q2"
   ]
  },
  {
   "cell_type": "code",
   "execution_count": 5,
   "id": "f8e1697a-4c21-4034-8a91-1a5add65566b",
   "metadata": {},
   "outputs": [
    {
     "data": {
      "text/plain": [
       "\" When an exception is not handeled , the flow of the program is disrupted and the remaining lines doesn't get execited\""
      ]
     },
     "execution_count": 5,
     "metadata": {},
     "output_type": "execute_result"
    }
   ],
   "source": [
    "\"\"\" When an exception is not handeled , the flow of the program is disrupted and the remaining lines doesn't get execited\"\"\""
   ]
  },
  {
   "cell_type": "code",
   "execution_count": 7,
   "id": "90e97d6b-2f24-4498-ab23-655972b11325",
   "metadata": {},
   "outputs": [
    {
     "name": "stdout",
     "output_type": "stream",
     "text": [
      "5\n"
     ]
    },
    {
     "ename": "ZeroDivisionError",
     "evalue": "division by zero",
     "output_type": "error",
     "traceback": [
      "\u001b[0;31m---------------------------------------------------------------------------\u001b[0m",
      "\u001b[0;31mZeroDivisionError\u001b[0m                         Traceback (most recent call last)",
      "Cell \u001b[0;32mIn[7], line 5\u001b[0m\n\u001b[1;32m      3\u001b[0m c\u001b[38;5;241m=\u001b[39m \u001b[38;5;241m2\u001b[39m\n\u001b[1;32m      4\u001b[0m \u001b[38;5;28mprint\u001b[39m(a)\n\u001b[0;32m----> 5\u001b[0m \u001b[38;5;28mprint\u001b[39m(\u001b[43ma\u001b[49m\u001b[38;5;241;43m/\u001b[39;49m\u001b[43m(\u001b[49m\u001b[43ma\u001b[49m\u001b[38;5;241;43m-\u001b[39;49m\u001b[43mb\u001b[49m\u001b[38;5;241;43m-\u001b[39;49m\u001b[43mc\u001b[49m\u001b[43m)\u001b[49m)\n\u001b[1;32m      6\u001b[0m \u001b[38;5;28mprint\u001b[39m(b)\n\u001b[1;32m      7\u001b[0m \u001b[38;5;28mprint\u001b[39m(c)\n",
      "\u001b[0;31mZeroDivisionError\u001b[0m: division by zero"
     ]
    }
   ],
   "source": [
    "a = 5\n",
    "b= 3\n",
    "c= 2\n",
    "print(a)\n",
    "print(a/(a-b-c))\n",
    "print(b)\n",
    "print(c)"
   ]
  },
  {
   "cell_type": "code",
   "execution_count": 8,
   "id": "f981ee90-5802-4a76-ad34-cfef913a120f",
   "metadata": {},
   "outputs": [],
   "source": [
    "#Q3"
   ]
  },
  {
   "cell_type": "code",
   "execution_count": 9,
   "id": "ee23e33f-639b-4a36-98ba-1622b5992e77",
   "metadata": {},
   "outputs": [
    {
     "data": {
      "text/plain": [
       "' try and except statements are used to handle exception'"
      ]
     },
     "execution_count": 9,
     "metadata": {},
     "output_type": "execute_result"
    }
   ],
   "source": [
    "\"\"\" try and except statements are used to handle exception\"\"\""
   ]
  },
  {
   "cell_type": "code",
   "execution_count": 10,
   "id": "daa7f63b-2434-4b56-a844-87ba62127462",
   "metadata": {},
   "outputs": [
    {
     "name": "stdout",
     "output_type": "stream",
     "text": [
      "This is my exception block [Errno 2] No such file or directory: 'test.txt'\n"
     ]
    }
   ],
   "source": [
    "try:\n",
    "    f=open(\"test.txt\",'r')\n",
    "except Exception as e:\n",
    "    print(\"This is my exception block\", e)"
   ]
  },
  {
   "cell_type": "code",
   "execution_count": 17,
   "id": "538fc6ab-56b7-402c-9cd0-2e9ec6ed24a7",
   "metadata": {},
   "outputs": [],
   "source": [
    "#Q5"
   ]
  },
  {
   "cell_type": "code",
   "execution_count": 12,
   "id": "df742f9f-fb64-4ec0-a541-b403c45ec314",
   "metadata": {},
   "outputs": [
    {
     "data": {
      "text/plain": [
       "' It is used to detect errors in the application and handle it which are not included in the main exception\\nclass and also used to describe some errors more precisely helps in debugging easily and also increases code resusability'"
      ]
     },
     "execution_count": 12,
     "metadata": {},
     "output_type": "execute_result"
    }
   ],
   "source": [
    "\"\"\" Custom exception classes are created by the developer as an extension of exception class to describe the \n",
    "error in the application more precisely \"\"\"\n",
    "\"\"\" It is used to detect errors in the application and handle it which are not included in the main exception\n",
    "class and also used to describe some errors more precisely helps in debugging easily and also increases code resusability\"\"\"\n",
    "\n"
   ]
  },
  {
   "cell_type": "code",
   "execution_count": 16,
   "id": "d6830ae0-712b-4567-b4e5-87e4566ba2b5",
   "metadata": {},
   "outputs": [
    {
     "name": "stdin",
     "output_type": "stream",
     "text": [
      "Enter your age 34\n"
     ]
    }
   ],
   "source": [
    "class validateAge(Exception):\n",
    "    def __init__(self,msg):\n",
    "        self.msg=msg\n",
    "\n",
    "def register_age(age):\n",
    "    if age < 0:\n",
    "        raise validateAge(\"Age is negative\")\n",
    "    elif age >120:\n",
    "        raise validateAge(\"Age is too high\")\n",
    "        \n",
    "try:\n",
    "    age=int(input(\"Enter your age\"))\n",
    "    register_age(age)\n",
    "except validateAge as e:\n",
    "    print(e)"
   ]
  },
  {
   "cell_type": "code",
   "execution_count": 18,
   "id": "e7a46942-35d1-4ed5-9d8d-6375edd67b2c",
   "metadata": {},
   "outputs": [],
   "source": [
    "#Q6"
   ]
  },
  {
   "cell_type": "code",
   "execution_count": 19,
   "id": "679f0797-0ecf-430d-8f52-eb05af74482f",
   "metadata": {},
   "outputs": [
    {
     "name": "stdin",
     "output_type": "stream",
     "text": [
      "Enter your age -90\n"
     ]
    },
    {
     "name": "stdout",
     "output_type": "stream",
     "text": [
      "Age is negative\n"
     ]
    }
   ],
   "source": [
    "class validateAge(Exception):\n",
    "    def __init__(self,msg):\n",
    "        self.msg=msg\n",
    "\n",
    "def register_age(age):\n",
    "    if age < 0:\n",
    "        raise validateAge(\"Age is negative\")\n",
    "    elif age >120:\n",
    "        raise validateAge(\"Age is too high\")\n",
    "        \n",
    "try:\n",
    "    age=int(input(\"Enter your age\"))\n",
    "    register_age(age)\n",
    "except validateAge as e:\n",
    "    print(e)\n",
    "    "
   ]
  },
  {
   "cell_type": "code",
   "execution_count": 20,
   "id": "0ff68058-2de5-4959-9024-ed654deb9fb8",
   "metadata": {},
   "outputs": [],
   "source": [
    "#Q4"
   ]
  },
  {
   "cell_type": "code",
   "execution_count": 21,
   "id": "0946e0ea-e74f-4c82-9f77-7f592993b873",
   "metadata": {},
   "outputs": [
    {
     "name": "stdout",
     "output_type": "stream",
     "text": [
      "[Errno 2] No such file or directory: 'test.txt'\n",
      "this block will be executed when there is any exception in the try block\n"
     ]
    }
   ],
   "source": [
    "try:\n",
    "    f = open(\"test.txt\",\"r\")\n",
    "    f.close()\n",
    "except Exception as e:\n",
    "    print(e)\n",
    "    print(\"this block will be executed when there is any exception in the try block\") "
   ]
  },
  {
   "cell_type": "code",
   "execution_count": 22,
   "id": "74389132-edf4-4879-ac96-5546418dc6d5",
   "metadata": {},
   "outputs": [],
   "source": [
    "try:\n",
    "    f = open(\"test.txt\",\"w\")\n",
    "    f.write(\"This is my test file\")\n",
    "    f.close()\n",
    "except Exception as e:\n",
    "    print(e)\n",
    "    print(\"this block will be executed when there is any exception in the try block\") "
   ]
  },
  {
   "cell_type": "code",
   "execution_count": 23,
   "id": "664a3246-1524-406f-b7a2-68629d7120e4",
   "metadata": {},
   "outputs": [
    {
     "name": "stdout",
     "output_type": "stream",
     "text": [
      "This block will get executed doesn't matter wheter the exception is present in the try bock or not\n"
     ]
    }
   ],
   "source": [
    "try:\n",
    "    f = open(\"test.txt\",\"r\")\n",
    "    f.close()\n",
    "except Exception as e:\n",
    "    print(e)\n",
    "    print(\"this block will be executed when there is any exception in the try block\") \n",
    "finally:\n",
    "    print(\"This block will get executed doesn't matter wheter the exception is present in the try bock or not\")"
   ]
  },
  {
   "cell_type": "code",
   "execution_count": null,
   "id": "6129bd95-36bf-451e-b045-58b3b5d5e85b",
   "metadata": {},
   "outputs": [],
   "source": []
  }
 ],
 "metadata": {
  "kernelspec": {
   "display_name": "Python 3 (ipykernel)",
   "language": "python",
   "name": "python3"
  },
  "language_info": {
   "codemirror_mode": {
    "name": "ipython",
    "version": 3
   },
   "file_extension": ".py",
   "mimetype": "text/x-python",
   "name": "python",
   "nbconvert_exporter": "python",
   "pygments_lexer": "ipython3",
   "version": "3.10.8"
  }
 },
 "nbformat": 4,
 "nbformat_minor": 5
}
